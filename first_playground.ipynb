{
 "cells": [
  {
   "cell_type": "code",
   "execution_count": 160,
   "id": "polyphonic-configuration",
   "metadata": {},
   "outputs": [],
   "source": [
    "import pandas as pd\n",
    "import numpy as np\n",
    "import matplotlib as mp\n",
    "import matplotlib.pyplot as plt\n",
    "import seaborn as sns\n",
    "import matplotlib.pyplot as plt\n",
    "from datetime import datetime\n",
    "import calendar\n",
    "from sklearn.model_selection import KFold\n",
    "from sklearn import datasets, linear_model, metrics \n",
    "from sklearn.metrics import r2_score\n",
    "from sklearn.metrics import f1_score\n",
    "from sklearn.preprocessing import StandardScaler\n",
    "from sklearn.linear_model import Ridge\n",
    "from sklearn.linear_model import RidgeClassifierCV\n",
    "from sklearn.linear_model import RidgeCV\n",
    "from sklearn.model_selection import GridSearchCV\n",
    "from sklearn.linear_model import LassoCV\n",
    "\n",
    "sns.set(font_scale=3)\n",
    "\n",
    "pd.set_option(\"display.max_columns\", 200)\n",
    "pd.set_option(\"display.max_rows\", 2000)\n"
   ]
  },
  {
   "cell_type": "code",
   "execution_count": 161,
   "id": "attempted-level",
   "metadata": {},
   "outputs": [],
   "source": [
    "start_time = calendar.timegm(datetime(2024, 4, 25, 0, 0, 0).timetuple())\n",
    "end_time = calendar.timegm(datetime(2023, 4, 25, 0, 0, 0).timetuple())\n",
    "url = f'https://query1.finance.yahoo.com/v7/finance/download/UPRO?period1={end_time}&period2={start_time}&interval=1d&events=history&includeAdjustedClose=true'\n",
    "\n",
    "upro_data = pd.read_csv(url)\n",
    "\n",
    "upro_data = upro_data.drop(columns=['High', 'Low', 'Adj Close', 'Volume'])\n",
    "\n",
    "upro_data = upro_data.sort_values(by=['Date'], ascending=False)"
   ]
  },
  {
   "cell_type": "code",
   "execution_count": 165,
   "id": "standard-fabric",
   "metadata": {},
   "outputs": [],
   "source": [
    "upro_data['1_ago_close'] = upro_data['Close'].shift(-1)\n",
    "upro_data['1_ago_close_percent'] = 1 - upro_data['Close'] / upro_data['1_ago_close']\n",
    "upro_data['open_close_percent'] = upro_data['Close'] / upro_data['Open']"
   ]
  },
  {
   "cell_type": "code",
   "execution_count": 166,
   "id": "exterior-mustang",
   "metadata": {},
   "outputs": [],
   "source": [
    "upro_data['open_close_percent'] = upro_data['Open'] / upro_data['Close']\n",
    "upro_data['yesterday_close'] = upro_data['Close'].shift(-1)\n",
    "\n",
    "percentage_columns = ['1_ago_close_percent']\n",
    "days_back = 7\n",
    "for x in range(2, days_back + 1):\n",
    "    percentage_columns.append(f'{x}_ago_close_percent')\n",
    "    upro_data[f'{x}_ago_close'] = upro_data['Close'].shift(x*-1)\n",
    "    upro_data[f'{x}_ago_close_percent'] = 1 -  upro_data['yesterday_close'] / upro_data[f'{x}_ago_close']\n",
    "upro_data.drop(upro_data.tail(days_back).index,inplace=True)"
   ]
  },
  {
   "cell_type": "markdown",
   "id": "dependent-shelter",
   "metadata": {},
   "source": [
    "## Summary\n",
    "\n",
    "My dependent or taget variable should be 'Close' on a given date. I could convert that to a percentage gain from previous close by using `1_ago_close_percent`.\n",
    "\n",
    "I am not sure if I will have the current `open` value when making market decisions, so I might want to remove that as a independent variable / feature.\n"
   ]
  },
  {
   "cell_type": "code",
   "execution_count": 167,
   "id": "indirect-institute",
   "metadata": {},
   "outputs": [
    {
     "data": {
      "text/html": [
       "<div>\n",
       "<style scoped>\n",
       "    .dataframe tbody tr th:only-of-type {\n",
       "        vertical-align: middle;\n",
       "    }\n",
       "\n",
       "    .dataframe tbody tr th {\n",
       "        vertical-align: top;\n",
       "    }\n",
       "\n",
       "    .dataframe thead th {\n",
       "        text-align: right;\n",
       "    }\n",
       "</style>\n",
       "<table border=\"1\" class=\"dataframe\">\n",
       "  <thead>\n",
       "    <tr style=\"text-align: right;\">\n",
       "      <th></th>\n",
       "      <th>Date</th>\n",
       "      <th>Open</th>\n",
       "      <th>Close</th>\n",
       "      <th>1_ago_close</th>\n",
       "      <th>1_ago_close_percent</th>\n",
       "      <th>open_close_percent</th>\n",
       "      <th>yesterday_close</th>\n",
       "      <th>2_ago_close</th>\n",
       "      <th>2_ago_close_percent</th>\n",
       "      <th>3_ago_close</th>\n",
       "      <th>3_ago_close_percent</th>\n",
       "      <th>4_ago_close</th>\n",
       "      <th>4_ago_close_percent</th>\n",
       "      <th>5_ago_close</th>\n",
       "      <th>5_ago_close_percent</th>\n",
       "      <th>6_ago_close</th>\n",
       "      <th>6_ago_close_percent</th>\n",
       "      <th>7_ago_close</th>\n",
       "      <th>7_ago_close_percent</th>\n",
       "    </tr>\n",
       "  </thead>\n",
       "  <tbody>\n",
       "    <tr>\n",
       "      <th>251</th>\n",
       "      <td>2024-04-24</td>\n",
       "      <td>63.290001</td>\n",
       "      <td>62.880001</td>\n",
       "      <td>62.930000</td>\n",
       "      <td>0.000795</td>\n",
       "      <td>1.006520</td>\n",
       "      <td>62.930000</td>\n",
       "      <td>60.750000</td>\n",
       "      <td>-0.035885</td>\n",
       "      <td>59.160000</td>\n",
       "      <td>-0.063725</td>\n",
       "      <td>60.779999</td>\n",
       "      <td>-0.035373</td>\n",
       "      <td>61.259998</td>\n",
       "      <td>-0.027261</td>\n",
       "      <td>62.369999</td>\n",
       "      <td>-0.008979</td>\n",
       "      <td>62.770000</td>\n",
       "      <td>-0.002549</td>\n",
       "    </tr>\n",
       "    <tr>\n",
       "      <th>250</th>\n",
       "      <td>2024-04-23</td>\n",
       "      <td>61.560001</td>\n",
       "      <td>62.930000</td>\n",
       "      <td>60.750000</td>\n",
       "      <td>-0.035885</td>\n",
       "      <td>0.978230</td>\n",
       "      <td>60.750000</td>\n",
       "      <td>59.160000</td>\n",
       "      <td>-0.026876</td>\n",
       "      <td>60.779999</td>\n",
       "      <td>0.000494</td>\n",
       "      <td>61.259998</td>\n",
       "      <td>0.008325</td>\n",
       "      <td>62.369999</td>\n",
       "      <td>0.025974</td>\n",
       "      <td>62.770000</td>\n",
       "      <td>0.032181</td>\n",
       "      <td>65.199997</td>\n",
       "      <td>0.068251</td>\n",
       "    </tr>\n",
       "    <tr>\n",
       "      <th>249</th>\n",
       "      <td>2024-04-22</td>\n",
       "      <td>60.150002</td>\n",
       "      <td>60.750000</td>\n",
       "      <td>59.160000</td>\n",
       "      <td>-0.026876</td>\n",
       "      <td>0.990123</td>\n",
       "      <td>59.160000</td>\n",
       "      <td>60.779999</td>\n",
       "      <td>0.026653</td>\n",
       "      <td>61.259998</td>\n",
       "      <td>0.034280</td>\n",
       "      <td>62.369999</td>\n",
       "      <td>0.051467</td>\n",
       "      <td>62.770000</td>\n",
       "      <td>0.057512</td>\n",
       "      <td>65.199997</td>\n",
       "      <td>0.092638</td>\n",
       "      <td>68.099998</td>\n",
       "      <td>0.131278</td>\n",
       "    </tr>\n",
       "    <tr>\n",
       "      <th>248</th>\n",
       "      <td>2024-04-19</td>\n",
       "      <td>60.759998</td>\n",
       "      <td>59.160000</td>\n",
       "      <td>60.779999</td>\n",
       "      <td>0.026653</td>\n",
       "      <td>1.027045</td>\n",
       "      <td>60.779999</td>\n",
       "      <td>61.259998</td>\n",
       "      <td>0.007835</td>\n",
       "      <td>62.369999</td>\n",
       "      <td>0.025493</td>\n",
       "      <td>62.770000</td>\n",
       "      <td>0.031703</td>\n",
       "      <td>65.199997</td>\n",
       "      <td>0.067791</td>\n",
       "      <td>68.099998</td>\n",
       "      <td>0.107489</td>\n",
       "      <td>66.680000</td>\n",
       "      <td>0.088482</td>\n",
       "    </tr>\n",
       "    <tr>\n",
       "      <th>247</th>\n",
       "      <td>2024-04-18</td>\n",
       "      <td>61.730000</td>\n",
       "      <td>60.779999</td>\n",
       "      <td>61.259998</td>\n",
       "      <td>0.007835</td>\n",
       "      <td>1.015630</td>\n",
       "      <td>61.259998</td>\n",
       "      <td>62.369999</td>\n",
       "      <td>0.017797</td>\n",
       "      <td>62.770000</td>\n",
       "      <td>0.024056</td>\n",
       "      <td>65.199997</td>\n",
       "      <td>0.060429</td>\n",
       "      <td>68.099998</td>\n",
       "      <td>0.100441</td>\n",
       "      <td>66.680000</td>\n",
       "      <td>0.081284</td>\n",
       "      <td>68.699997</td>\n",
       "      <td>0.108297</td>\n",
       "    </tr>\n",
       "  </tbody>\n",
       "</table>\n",
       "</div>"
      ],
      "text/plain": [
       "           Date       Open      Close  1_ago_close  1_ago_close_percent  \\\n",
       "251  2024-04-24  63.290001  62.880001    62.930000             0.000795   \n",
       "250  2024-04-23  61.560001  62.930000    60.750000            -0.035885   \n",
       "249  2024-04-22  60.150002  60.750000    59.160000            -0.026876   \n",
       "248  2024-04-19  60.759998  59.160000    60.779999             0.026653   \n",
       "247  2024-04-18  61.730000  60.779999    61.259998             0.007835   \n",
       "\n",
       "     open_close_percent  yesterday_close  2_ago_close  2_ago_close_percent  \\\n",
       "251            1.006520        62.930000    60.750000            -0.035885   \n",
       "250            0.978230        60.750000    59.160000            -0.026876   \n",
       "249            0.990123        59.160000    60.779999             0.026653   \n",
       "248            1.027045        60.779999    61.259998             0.007835   \n",
       "247            1.015630        61.259998    62.369999             0.017797   \n",
       "\n",
       "     3_ago_close  3_ago_close_percent  4_ago_close  4_ago_close_percent  \\\n",
       "251    59.160000            -0.063725    60.779999            -0.035373   \n",
       "250    60.779999             0.000494    61.259998             0.008325   \n",
       "249    61.259998             0.034280    62.369999             0.051467   \n",
       "248    62.369999             0.025493    62.770000             0.031703   \n",
       "247    62.770000             0.024056    65.199997             0.060429   \n",
       "\n",
       "     5_ago_close  5_ago_close_percent  6_ago_close  6_ago_close_percent  \\\n",
       "251    61.259998            -0.027261    62.369999            -0.008979   \n",
       "250    62.369999             0.025974    62.770000             0.032181   \n",
       "249    62.770000             0.057512    65.199997             0.092638   \n",
       "248    65.199997             0.067791    68.099998             0.107489   \n",
       "247    68.099998             0.100441    66.680000             0.081284   \n",
       "\n",
       "     7_ago_close  7_ago_close_percent  \n",
       "251    62.770000            -0.002549  \n",
       "250    65.199997             0.068251  \n",
       "249    68.099998             0.131278  \n",
       "248    66.680000             0.088482  \n",
       "247    68.699997             0.108297  "
      ]
     },
     "execution_count": 167,
     "metadata": {},
     "output_type": "execute_result"
    }
   ],
   "source": [
    "upro_data.head()"
   ]
  },
  {
   "cell_type": "code",
   "execution_count": 168,
   "id": "martial-banana",
   "metadata": {},
   "outputs": [
    {
     "data": {
      "text/html": [
       "<div>\n",
       "<style scoped>\n",
       "    .dataframe tbody tr th:only-of-type {\n",
       "        vertical-align: middle;\n",
       "    }\n",
       "\n",
       "    .dataframe tbody tr th {\n",
       "        vertical-align: top;\n",
       "    }\n",
       "\n",
       "    .dataframe thead th {\n",
       "        text-align: right;\n",
       "    }\n",
       "</style>\n",
       "<table border=\"1\" class=\"dataframe\">\n",
       "  <thead>\n",
       "    <tr style=\"text-align: right;\">\n",
       "      <th></th>\n",
       "      <th>Open</th>\n",
       "      <th>Close</th>\n",
       "      <th>1_ago_close</th>\n",
       "      <th>1_ago_close_percent</th>\n",
       "      <th>open_close_percent</th>\n",
       "      <th>yesterday_close</th>\n",
       "      <th>2_ago_close</th>\n",
       "      <th>2_ago_close_percent</th>\n",
       "      <th>3_ago_close</th>\n",
       "      <th>3_ago_close_percent</th>\n",
       "      <th>4_ago_close</th>\n",
       "      <th>4_ago_close_percent</th>\n",
       "      <th>5_ago_close</th>\n",
       "      <th>5_ago_close_percent</th>\n",
       "      <th>6_ago_close</th>\n",
       "      <th>6_ago_close_percent</th>\n",
       "      <th>7_ago_close</th>\n",
       "      <th>7_ago_close_percent</th>\n",
       "    </tr>\n",
       "  </thead>\n",
       "  <tbody>\n",
       "    <tr>\n",
       "      <th>count</th>\n",
       "      <td>238.000000</td>\n",
       "      <td>238.000000</td>\n",
       "      <td>238.000000</td>\n",
       "      <td>238.000000</td>\n",
       "      <td>238.000000</td>\n",
       "      <td>238.000000</td>\n",
       "      <td>238.000000</td>\n",
       "      <td>238.000000</td>\n",
       "      <td>238.000000</td>\n",
       "      <td>238.000000</td>\n",
       "      <td>238.000000</td>\n",
       "      <td>238.000000</td>\n",
       "      <td>238.000000</td>\n",
       "      <td>238.000000</td>\n",
       "      <td>238.000000</td>\n",
       "      <td>238.000000</td>\n",
       "      <td>238.000000</td>\n",
       "      <td>238.000000</td>\n",
       "    </tr>\n",
       "    <tr>\n",
       "      <th>mean</th>\n",
       "      <td>51.242899</td>\n",
       "      <td>51.275462</td>\n",
       "      <td>51.172941</td>\n",
       "      <td>-0.002300</td>\n",
       "      <td>0.999365</td>\n",
       "      <td>51.172941</td>\n",
       "      <td>51.070840</td>\n",
       "      <td>-0.002287</td>\n",
       "      <td>50.978865</td>\n",
       "      <td>-0.004440</td>\n",
       "      <td>50.891386</td>\n",
       "      <td>-0.006513</td>\n",
       "      <td>50.799328</td>\n",
       "      <td>-0.008652</td>\n",
       "      <td>50.705042</td>\n",
       "      <td>-0.010864</td>\n",
       "      <td>50.597731</td>\n",
       "      <td>-0.013376</td>\n",
       "    </tr>\n",
       "    <tr>\n",
       "      <th>std</th>\n",
       "      <td>9.289638</td>\n",
       "      <td>9.235301</td>\n",
       "      <td>9.241365</td>\n",
       "      <td>0.021724</td>\n",
       "      <td>0.018205</td>\n",
       "      <td>9.241365</td>\n",
       "      <td>9.245158</td>\n",
       "      <td>0.021727</td>\n",
       "      <td>9.257337</td>\n",
       "      <td>0.031864</td>\n",
       "      <td>9.278049</td>\n",
       "      <td>0.038786</td>\n",
       "      <td>9.288211</td>\n",
       "      <td>0.044828</td>\n",
       "      <td>9.295468</td>\n",
       "      <td>0.050749</td>\n",
       "      <td>9.307649</td>\n",
       "      <td>0.055851</td>\n",
       "    </tr>\n",
       "    <tr>\n",
       "      <th>min</th>\n",
       "      <td>36.700001</td>\n",
       "      <td>35.970001</td>\n",
       "      <td>35.970001</td>\n",
       "      <td>-0.061632</td>\n",
       "      <td>0.948798</td>\n",
       "      <td>35.970001</td>\n",
       "      <td>35.970001</td>\n",
       "      <td>-0.061632</td>\n",
       "      <td>35.970001</td>\n",
       "      <td>-0.089926</td>\n",
       "      <td>35.970001</td>\n",
       "      <td>-0.119198</td>\n",
       "      <td>35.970001</td>\n",
       "      <td>-0.149013</td>\n",
       "      <td>35.970001</td>\n",
       "      <td>-0.179872</td>\n",
       "      <td>35.970001</td>\n",
       "      <td>-0.187378</td>\n",
       "    </tr>\n",
       "    <tr>\n",
       "      <th>25%</th>\n",
       "      <td>44.135000</td>\n",
       "      <td>44.302499</td>\n",
       "      <td>44.284999</td>\n",
       "      <td>-0.017812</td>\n",
       "      <td>0.988370</td>\n",
       "      <td>44.284999</td>\n",
       "      <td>44.115001</td>\n",
       "      <td>-0.017812</td>\n",
       "      <td>43.954999</td>\n",
       "      <td>-0.025892</td>\n",
       "      <td>43.860000</td>\n",
       "      <td>-0.033252</td>\n",
       "      <td>43.637500</td>\n",
       "      <td>-0.038731</td>\n",
       "      <td>43.434999</td>\n",
       "      <td>-0.045843</td>\n",
       "      <td>43.359998</td>\n",
       "      <td>-0.045877</td>\n",
       "    </tr>\n",
       "    <tr>\n",
       "      <th>50%</th>\n",
       "      <td>48.330000</td>\n",
       "      <td>48.365002</td>\n",
       "      <td>48.325001</td>\n",
       "      <td>-0.001632</td>\n",
       "      <td>0.997679</td>\n",
       "      <td>48.325001</td>\n",
       "      <td>48.299999</td>\n",
       "      <td>-0.001632</td>\n",
       "      <td>48.229999</td>\n",
       "      <td>-0.005848</td>\n",
       "      <td>48.135000</td>\n",
       "      <td>-0.009591</td>\n",
       "      <td>48.085001</td>\n",
       "      <td>-0.007388</td>\n",
       "      <td>48.075001</td>\n",
       "      <td>-0.010557</td>\n",
       "      <td>48.070000</td>\n",
       "      <td>-0.018822</td>\n",
       "    </tr>\n",
       "    <tr>\n",
       "      <th>75%</th>\n",
       "      <td>58.512501</td>\n",
       "      <td>58.727500</td>\n",
       "      <td>58.539999</td>\n",
       "      <td>0.010436</td>\n",
       "      <td>1.008754</td>\n",
       "      <td>58.539999</td>\n",
       "      <td>58.190001</td>\n",
       "      <td>0.010436</td>\n",
       "      <td>57.640000</td>\n",
       "      <td>0.017225</td>\n",
       "      <td>57.402500</td>\n",
       "      <td>0.021362</td>\n",
       "      <td>56.969999</td>\n",
       "      <td>0.017617</td>\n",
       "      <td>56.705000</td>\n",
       "      <td>0.020537</td>\n",
       "      <td>56.280001</td>\n",
       "      <td>0.021195</td>\n",
       "    </tr>\n",
       "    <tr>\n",
       "      <th>max</th>\n",
       "      <td>70.879997</td>\n",
       "      <td>70.589996</td>\n",
       "      <td>70.589996</td>\n",
       "      <td>0.049855</td>\n",
       "      <td>1.064999</td>\n",
       "      <td>70.589996</td>\n",
       "      <td>70.589996</td>\n",
       "      <td>0.049855</td>\n",
       "      <td>70.589996</td>\n",
       "      <td>0.078768</td>\n",
       "      <td>70.589996</td>\n",
       "      <td>0.101730</td>\n",
       "      <td>70.589996</td>\n",
       "      <td>0.106113</td>\n",
       "      <td>70.589996</td>\n",
       "      <td>0.116057</td>\n",
       "      <td>70.589996</td>\n",
       "      <td>0.131278</td>\n",
       "    </tr>\n",
       "  </tbody>\n",
       "</table>\n",
       "</div>"
      ],
      "text/plain": [
       "             Open       Close  1_ago_close  1_ago_close_percent  \\\n",
       "count  238.000000  238.000000   238.000000           238.000000   \n",
       "mean    51.242899   51.275462    51.172941            -0.002300   \n",
       "std      9.289638    9.235301     9.241365             0.021724   \n",
       "min     36.700001   35.970001    35.970001            -0.061632   \n",
       "25%     44.135000   44.302499    44.284999            -0.017812   \n",
       "50%     48.330000   48.365002    48.325001            -0.001632   \n",
       "75%     58.512501   58.727500    58.539999             0.010436   \n",
       "max     70.879997   70.589996    70.589996             0.049855   \n",
       "\n",
       "       open_close_percent  yesterday_close  2_ago_close  2_ago_close_percent  \\\n",
       "count          238.000000       238.000000   238.000000           238.000000   \n",
       "mean             0.999365        51.172941    51.070840            -0.002287   \n",
       "std              0.018205         9.241365     9.245158             0.021727   \n",
       "min              0.948798        35.970001    35.970001            -0.061632   \n",
       "25%              0.988370        44.284999    44.115001            -0.017812   \n",
       "50%              0.997679        48.325001    48.299999            -0.001632   \n",
       "75%              1.008754        58.539999    58.190001             0.010436   \n",
       "max              1.064999        70.589996    70.589996             0.049855   \n",
       "\n",
       "       3_ago_close  3_ago_close_percent  4_ago_close  4_ago_close_percent  \\\n",
       "count   238.000000           238.000000   238.000000           238.000000   \n",
       "mean     50.978865            -0.004440    50.891386            -0.006513   \n",
       "std       9.257337             0.031864     9.278049             0.038786   \n",
       "min      35.970001            -0.089926    35.970001            -0.119198   \n",
       "25%      43.954999            -0.025892    43.860000            -0.033252   \n",
       "50%      48.229999            -0.005848    48.135000            -0.009591   \n",
       "75%      57.640000             0.017225    57.402500             0.021362   \n",
       "max      70.589996             0.078768    70.589996             0.101730   \n",
       "\n",
       "       5_ago_close  5_ago_close_percent  6_ago_close  6_ago_close_percent  \\\n",
       "count   238.000000           238.000000   238.000000           238.000000   \n",
       "mean     50.799328            -0.008652    50.705042            -0.010864   \n",
       "std       9.288211             0.044828     9.295468             0.050749   \n",
       "min      35.970001            -0.149013    35.970001            -0.179872   \n",
       "25%      43.637500            -0.038731    43.434999            -0.045843   \n",
       "50%      48.085001            -0.007388    48.075001            -0.010557   \n",
       "75%      56.969999             0.017617    56.705000             0.020537   \n",
       "max      70.589996             0.106113    70.589996             0.116057   \n",
       "\n",
       "       7_ago_close  7_ago_close_percent  \n",
       "count   238.000000           238.000000  \n",
       "mean     50.597731            -0.013376  \n",
       "std       9.307649             0.055851  \n",
       "min      35.970001            -0.187378  \n",
       "25%      43.359998            -0.045877  \n",
       "50%      48.070000            -0.018822  \n",
       "75%      56.280001             0.021195  \n",
       "max      70.589996             0.131278  "
      ]
     },
     "execution_count": 168,
     "metadata": {},
     "output_type": "execute_result"
    }
   ],
   "source": [
    "upro_data.describe()"
   ]
  },
  {
   "cell_type": "code",
   "execution_count": 169,
   "id": "silent-alabama",
   "metadata": {},
   "outputs": [
    {
     "data": {
      "text/plain": [
       "<AxesSubplot:xlabel='Date', ylabel='1_ago_close_percent'>"
      ]
     },
     "execution_count": 169,
     "metadata": {},
     "output_type": "execute_result"
    },
    {
     "data": {
      "image/png": "[encoded data removed]",
      "text/plain": [
       "<Figure size 432x288 with 1 Axes>"
      ]
     },
     "metadata": {},
     "output_type": "display_data"
    }
   ],
   "source": [
    "sns.lineplot(data=upro_data, x=\"Date\", y=\"1_ago_close_percent\")\n"
   ]
  },
  {
   "cell_type": "code",
   "execution_count": 170,
   "id": "alternate-event",
   "metadata": {},
   "outputs": [
    {
     "data": {
      "text/plain": [
       "Date                   0\n",
       "Open                   0\n",
       "Close                  0\n",
       "1_ago_close            0\n",
       "1_ago_close_percent    0\n",
       "open_close_percent     0\n",
       "yesterday_close        0\n",
       "2_ago_close            0\n",
       "2_ago_close_percent    0\n",
       "3_ago_close            0\n",
       "3_ago_close_percent    0\n",
       "4_ago_close            0\n",
       "4_ago_close_percent    0\n",
       "5_ago_close            0\n",
       "5_ago_close_percent    0\n",
       "6_ago_close            0\n",
       "6_ago_close_percent    0\n",
       "7_ago_close            0\n",
       "7_ago_close_percent    0\n",
       "dtype: int64"
      ]
     },
     "execution_count": 170,
     "metadata": {},
     "output_type": "execute_result"
    }
   ],
   "source": [
    "np.sum(upro_data.isnull())"
   ]
  },
  {
   "cell_type": "code",
   "execution_count": 171,
   "id": "exotic-symphony",
   "metadata": {},
   "outputs": [
    {
     "data": {
      "text/html": [
       "<div>\n",
       "<style scoped>\n",
       "    .dataframe tbody tr th:only-of-type {\n",
       "        vertical-align: middle;\n",
       "    }\n",
       "\n",
       "    .dataframe tbody tr th {\n",
       "        vertical-align: top;\n",
       "    }\n",
       "\n",
       "    .dataframe thead th {\n",
       "        text-align: right;\n",
       "    }\n",
       "</style>\n",
       "<table border=\"1\" class=\"dataframe\">\n",
       "  <thead>\n",
       "    <tr style=\"text-align: right;\">\n",
       "      <th></th>\n",
       "      <th>1_ago_close_percent</th>\n",
       "      <th>2_ago_close_percent</th>\n",
       "      <th>3_ago_close_percent</th>\n",
       "      <th>4_ago_close_percent</th>\n",
       "      <th>5_ago_close_percent</th>\n",
       "      <th>6_ago_close_percent</th>\n",
       "      <th>7_ago_close_percent</th>\n",
       "    </tr>\n",
       "  </thead>\n",
       "  <tbody>\n",
       "    <tr>\n",
       "      <th>count</th>\n",
       "      <td>238.000000</td>\n",
       "      <td>238.000000</td>\n",
       "      <td>238.000000</td>\n",
       "      <td>238.000000</td>\n",
       "      <td>238.000000</td>\n",
       "      <td>238.000000</td>\n",
       "      <td>238.000000</td>\n",
       "    </tr>\n",
       "    <tr>\n",
       "      <th>mean</th>\n",
       "      <td>-0.002300</td>\n",
       "      <td>-0.002287</td>\n",
       "      <td>-0.004440</td>\n",
       "      <td>-0.006513</td>\n",
       "      <td>-0.008652</td>\n",
       "      <td>-0.010864</td>\n",
       "      <td>-0.013376</td>\n",
       "    </tr>\n",
       "    <tr>\n",
       "      <th>std</th>\n",
       "      <td>0.021724</td>\n",
       "      <td>0.021727</td>\n",
       "      <td>0.031864</td>\n",
       "      <td>0.038786</td>\n",
       "      <td>0.044828</td>\n",
       "      <td>0.050749</td>\n",
       "      <td>0.055851</td>\n",
       "    </tr>\n",
       "    <tr>\n",
       "      <th>min</th>\n",
       "      <td>-0.061632</td>\n",
       "      <td>-0.061632</td>\n",
       "      <td>-0.089926</td>\n",
       "      <td>-0.119198</td>\n",
       "      <td>-0.149013</td>\n",
       "      <td>-0.179872</td>\n",
       "      <td>-0.187378</td>\n",
       "    </tr>\n",
       "    <tr>\n",
       "      <th>25%</th>\n",
       "      <td>-0.017812</td>\n",
       "      <td>-0.017812</td>\n",
       "      <td>-0.025892</td>\n",
       "      <td>-0.033252</td>\n",
       "      <td>-0.038731</td>\n",
       "      <td>-0.045843</td>\n",
       "      <td>-0.045877</td>\n",
       "    </tr>\n",
       "    <tr>\n",
       "      <th>50%</th>\n",
       "      <td>-0.001632</td>\n",
       "      <td>-0.001632</td>\n",
       "      <td>-0.005848</td>\n",
       "      <td>-0.009591</td>\n",
       "      <td>-0.007388</td>\n",
       "      <td>-0.010557</td>\n",
       "      <td>-0.018822</td>\n",
       "    </tr>\n",
       "    <tr>\n",
       "      <th>75%</th>\n",
       "      <td>0.010436</td>\n",
       "      <td>0.010436</td>\n",
       "      <td>0.017225</td>\n",
       "      <td>0.021362</td>\n",
       "      <td>0.017617</td>\n",
       "      <td>0.020537</td>\n",
       "      <td>0.021195</td>\n",
       "    </tr>\n",
       "    <tr>\n",
       "      <th>max</th>\n",
       "      <td>0.049855</td>\n",
       "      <td>0.049855</td>\n",
       "      <td>0.078768</td>\n",
       "      <td>0.101730</td>\n",
       "      <td>0.106113</td>\n",
       "      <td>0.116057</td>\n",
       "      <td>0.131278</td>\n",
       "    </tr>\n",
       "  </tbody>\n",
       "</table>\n",
       "</div>"
      ],
      "text/plain": [
       "       1_ago_close_percent  2_ago_close_percent  3_ago_close_percent  \\\n",
       "count           238.000000           238.000000           238.000000   \n",
       "mean             -0.002300            -0.002287            -0.004440   \n",
       "std               0.021724             0.021727             0.031864   \n",
       "min              -0.061632            -0.061632            -0.089926   \n",
       "25%              -0.017812            -0.017812            -0.025892   \n",
       "50%              -0.001632            -0.001632            -0.005848   \n",
       "75%               0.010436             0.010436             0.017225   \n",
       "max               0.049855             0.049855             0.078768   \n",
       "\n",
       "       4_ago_close_percent  5_ago_close_percent  6_ago_close_percent  \\\n",
       "count           238.000000           238.000000           238.000000   \n",
       "mean             -0.006513            -0.008652            -0.010864   \n",
       "std               0.038786             0.044828             0.050749   \n",
       "min              -0.119198            -0.149013            -0.179872   \n",
       "25%              -0.033252            -0.038731            -0.045843   \n",
       "50%              -0.009591            -0.007388            -0.010557   \n",
       "75%               0.021362             0.017617             0.020537   \n",
       "max               0.101730             0.106113             0.116057   \n",
       "\n",
       "       7_ago_close_percent  \n",
       "count           238.000000  \n",
       "mean             -0.013376  \n",
       "std               0.055851  \n",
       "min              -0.187378  \n",
       "25%              -0.045877  \n",
       "50%              -0.018822  \n",
       "75%               0.021195  \n",
       "max               0.131278  "
      ]
     },
     "execution_count": 171,
     "metadata": {},
     "output_type": "execute_result"
    }
   ],
   "source": [
    "only_percent = upro_data[percentage_columns].copy()\n",
    "only_percent.describe()"
   ]
  },
  {
   "cell_type": "code",
   "execution_count": 172,
   "id": "outside-reliance",
   "metadata": {},
   "outputs": [
    {
     "data": {
      "text/plain": [
       "<AxesSubplot:>"
      ]
     },
     "execution_count": 172,
     "metadata": {},
     "output_type": "execute_result"
    },
    {
     "data": {
      "image/png": "[encoded data removed]",
      "text/plain": [
       "<Figure size 2160x1440 with 2 Axes>"
      ]
     },
     "metadata": {},
     "output_type": "display_data"
    }
   ],
   "source": [
    "corr_mat = only_percent.corr(method='pearson')\n",
    "plt.figure(figsize=(30,20))\n",
    "sns.set(font_scale=3)\n",
    "sns.heatmap(corr_mat[['1_ago_close_percent']].transpose(), vmax=1, square=True, annot=True, cmap=\"YlGnBu\")"
   ]
  },
  {
   "cell_type": "markdown",
   "id": "inappropriate-concentration",
   "metadata": {},
   "source": [
    "## K-Folds Sample"
   ]
  },
  {
   "cell_type": "code",
   "execution_count": 173,
   "id": "organic-boston",
   "metadata": {},
   "outputs": [
    {
     "data": {
      "text/plain": [
       "2"
      ]
     },
     "execution_count": 173,
     "metadata": {},
     "output_type": "execute_result"
    }
   ],
   "source": [
    "X = np.array([[1, 2], [3, 4], [1, 2], [3, 4]])\n",
    "y = np.array([6, 7, 8, 9])\n",
    "kf = KFold(n_splits=2)\n",
    "kf.get_n_splits(X)"
   ]
  },
  {
   "cell_type": "code",
   "execution_count": 174,
   "id": "american-commonwealth",
   "metadata": {},
   "outputs": [
    {
     "name": "stdout",
     "output_type": "stream",
     "text": [
      "KFold(n_splits=2, random_state=None, shuffle=False)\n"
     ]
    }
   ],
   "source": [
    "print(kf)"
   ]
  },
  {
   "cell_type": "code",
   "execution_count": 175,
   "id": "returning-lodge",
   "metadata": {},
   "outputs": [
    {
     "name": "stdout",
     "output_type": "stream",
     "text": [
      "TRAIN: [2 3] TEST: [0 1]\n",
      "TRAIN: [0 1] TEST: [2 3]\n"
     ]
    }
   ],
   "source": [
    "for train_index, test_index in kf.split(X):\n",
    "    print(\"TRAIN:\", train_index, \"TEST:\", test_index)\n",
    "    X_train, X_test = X[train_index], X[test_index]\n",
    "    y_train, y_test = y[train_index], y[test_index]"
   ]
  },
  {
   "cell_type": "code",
   "execution_count": 176,
   "id": "fallen-armenia",
   "metadata": {},
   "outputs": [
    {
     "data": {
      "text/plain": [
       "array([6, 7])"
      ]
     },
     "execution_count": 176,
     "metadata": {},
     "output_type": "execute_result"
    }
   ],
   "source": [
    "y_train"
   ]
  },
  {
   "cell_type": "code",
   "execution_count": 177,
   "id": "liquid-blocking",
   "metadata": {},
   "outputs": [
    {
     "data": {
      "text/plain": [
       "array([8, 9])"
      ]
     },
     "execution_count": 177,
     "metadata": {},
     "output_type": "execute_result"
    }
   ],
   "source": [
    "y_test"
   ]
  },
  {
   "cell_type": "markdown",
   "id": "sporting-property",
   "metadata": {},
   "source": [
    "## K-Folds With our data"
   ]
  },
  {
   "cell_type": "code",
   "execution_count": 178,
   "id": "nearby-caution",
   "metadata": {},
   "outputs": [
    {
     "data": {
      "text/plain": [
       "2"
      ]
     },
     "execution_count": 178,
     "metadata": {},
     "output_type": "execute_result"
    }
   ],
   "source": [
    "y = only_percent['1_ago_close_percent'].values\n",
    "X = only_percent.drop(['1_ago_close_percent'], axis=1).values\n",
    "# there might be a unique or scramble option i should use.\n",
    "kf = KFold(n_splits=2)\n",
    "kf.get_n_splits(X)"
   ]
  },
  {
   "cell_type": "code",
   "execution_count": 179,
   "id": "asian-substance",
   "metadata": {},
   "outputs": [],
   "source": [
    "for train_index, test_index in kf.split(X):\n",
    "    X_train, X_test = X[train_index], X[test_index]\n",
    "    y_train, y_test = y[train_index], y[test_index]"
   ]
  },
  {
   "cell_type": "code",
   "execution_count": 180,
   "id": "optimum-final",
   "metadata": {},
   "outputs": [],
   "source": [
    "regression = RidgeCV(alphas=[1e-5, 1e-4, 1e-3, 1e-2, 1e-1, 1, 10, 100])\n",
    "regression.fit(X_train, y_train)\n",
    "y_pred = regression.predict(X_test)"
   ]
  },
  {
   "cell_type": "code",
   "execution_count": 181,
   "id": "democratic-buyer",
   "metadata": {},
   "outputs": [
    {
     "data": {
      "text/plain": [
       "array([-0.0042196 , -0.00422203, -0.00423347, -0.00423644, -0.00423287,\n",
       "       -0.00422823, -0.00423152, -0.0042322 , -0.00423043, -0.00422549,\n",
       "       -0.00421538, -0.0042143 , -0.00421726, -0.00421227, -0.00420709,\n",
       "       -0.00420922, -0.00421344, -0.00421575, -0.00422107, -0.00422123,\n",
       "       -0.0042283 , -0.00422325, -0.00422114, -0.00422448, -0.00423329,\n",
       "       -0.0042343 , -0.00422781, -0.00423474, -0.00423572, -0.00422557,\n",
       "       -0.00422262, -0.00422253, -0.00422011, -0.00421456, -0.00422118,\n",
       "       -0.00422275, -0.00421967, -0.00422375, -0.00422525, -0.00422054,\n",
       "       -0.00421342, -0.00420954, -0.00421106, -0.00420847, -0.00420686,\n",
       "       -0.00421423, -0.00421717, -0.00422165, -0.00421709, -0.0042246 ,\n",
       "       -0.00422396, -0.00422734, -0.0042297 , -0.00422835, -0.00422592,\n",
       "       -0.00421885, -0.0042211 , -0.00422394, -0.00422694, -0.00422558,\n",
       "       -0.00422328, -0.00422657, -0.00422613, -0.00422683, -0.00421795,\n",
       "       -0.00421406, -0.00421527, -0.00422178, -0.00421847, -0.00421552,\n",
       "       -0.0042154 , -0.00421852, -0.0042167 , -0.0042088 , -0.00420708,\n",
       "       -0.00420951, -0.00421042, -0.00421075, -0.0042153 , -0.00421847,\n",
       "       -0.00422005, -0.00422   , -0.00421883, -0.00421167, -0.00420775,\n",
       "       -0.00421092, -0.00421662, -0.00421752, -0.00422104, -0.00422822,\n",
       "       -0.00422421, -0.00421909, -0.00422106, -0.00421453, -0.00420859,\n",
       "       -0.00420515, -0.0042099 , -0.00420952, -0.00421219, -0.00421405,\n",
       "       -0.00421046, -0.00421391, -0.00421311, -0.00420865, -0.00420213,\n",
       "       -0.00421165, -0.00421988, -0.00421603, -0.00421484, -0.00422162,\n",
       "       -0.00422322, -0.00421956, -0.00421475, -0.00421194, -0.00421054,\n",
       "       -0.00421555, -0.00422136, -0.00421914, -0.00421686])"
      ]
     },
     "execution_count": 181,
     "metadata": {},
     "output_type": "execute_result"
    }
   ],
   "source": [
    "y_pred"
   ]
  },
  {
   "cell_type": "code",
   "execution_count": 182,
   "id": "warming-patch",
   "metadata": {},
   "outputs": [],
   "source": [
    "from sklearn.linear_model import ElasticNet"
   ]
  },
  {
   "cell_type": "code",
   "execution_count": 183,
   "id": "turned-pension",
   "metadata": {},
   "outputs": [],
   "source": [
    "regression = ElasticNet(alpha=1.0, l1_ratio=0.5)\n",
    "regression.fit(X_train, y_train)\n",
    "y_pred = regression.predict(X_test)"
   ]
  },
  {
   "cell_type": "code",
   "execution_count": 184,
   "id": "vulnerable-wrong",
   "metadata": {},
   "outputs": [
    {
     "data": {
      "text/plain": [
       "array([-0.00421578, -0.00421578, -0.00421578, -0.00421578, -0.00421578,\n",
       "       -0.00421578, -0.00421578, -0.00421578, -0.00421578, -0.00421578,\n",
       "       -0.00421578, -0.00421578, -0.00421578, -0.00421578, -0.00421578,\n",
       "       -0.00421578, -0.00421578, -0.00421578, -0.00421578, -0.00421578,\n",
       "       -0.00421578, -0.00421578, -0.00421578, -0.00421578, -0.00421578,\n",
       "       -0.00421578, -0.00421578, -0.00421578, -0.00421578, -0.00421578,\n",
       "       -0.00421578, -0.00421578, -0.00421578, -0.00421578, -0.00421578,\n",
       "       -0.00421578, -0.00421578, -0.00421578, -0.00421578, -0.00421578,\n",
       "       -0.00421578, -0.00421578, -0.00421578, -0.00421578, -0.00421578,\n",
       "       -0.00421578, -0.00421578, -0.00421578, -0.00421578, -0.00421578,\n",
       "       -0.00421578, -0.00421578, -0.00421578, -0.00421578, -0.00421578,\n",
       "       -0.00421578, -0.00421578, -0.00421578, -0.00421578, -0.00421578,\n",
       "       -0.00421578, -0.00421578, -0.00421578, -0.00421578, -0.00421578,\n",
       "       -0.00421578, -0.00421578, -0.00421578, -0.00421578, -0.00421578,\n",
       "       -0.00421578, -0.00421578, -0.00421578, -0.00421578, -0.00421578,\n",
       "       -0.00421578, -0.00421578, -0.00421578, -0.00421578, -0.00421578,\n",
       "       -0.00421578, -0.00421578, -0.00421578, -0.00421578, -0.00421578,\n",
       "       -0.00421578, -0.00421578, -0.00421578, -0.00421578, -0.00421578,\n",
       "       -0.00421578, -0.00421578, -0.00421578, -0.00421578, -0.00421578,\n",
       "       -0.00421578, -0.00421578, -0.00421578, -0.00421578, -0.00421578,\n",
       "       -0.00421578, -0.00421578, -0.00421578, -0.00421578, -0.00421578,\n",
       "       -0.00421578, -0.00421578, -0.00421578, -0.00421578, -0.00421578,\n",
       "       -0.00421578, -0.00421578, -0.00421578, -0.00421578, -0.00421578,\n",
       "       -0.00421578, -0.00421578, -0.00421578, -0.00421578])"
      ]
     },
     "execution_count": 184,
     "metadata": {},
     "output_type": "execute_result"
    }
   ],
   "source": [
    "y_pred"
   ]
  },
  {
   "cell_type": "code",
   "execution_count": null,
   "id": "narrow-tablet",
   "metadata": {},
   "outputs": [],
   "source": []
  }
 ],
 "metadata": {
  "kernelspec": {
   "display_name": "Python 3",
   "language": "python",
   "name": "python3"
  },
  "language_info": {
   "codemirror_mode": {
    "name": "ipython",
    "version": 3
   },
   "file_extension": ".py",
   "mimetype": "text/x-python",
   "name": "python",
   "nbconvert_exporter": "python",
   "pygments_lexer": "ipython3",
   "version": "3.9.0"
  }
 },
 "nbformat": 4,
 "nbformat_minor": 5
}
